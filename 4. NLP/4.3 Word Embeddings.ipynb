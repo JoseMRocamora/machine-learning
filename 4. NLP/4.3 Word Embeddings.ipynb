{
 "cells": [
  {
   "cell_type": "markdown",
   "metadata": {},
   "source": [
    "# <center> Word Embeddings\n",
    "![](img/embeddings.png)"
   ]
  },
  {
   "cell_type": "code",
   "execution_count": 13,
   "metadata": {},
   "outputs": [],
   "source": [
    "import numpy as np\n",
    "import pandas as pd\n",
    "import spacy\n",
    "import matplotlib.pyplot as plt\n",
    "\n",
    "from sklearn.model_selection import train_test_split\n",
    "from sklearn.svm import LinearSVC\n",
    "from tqdm import tqdm_notebook as tqdm\n",
    "from sklearn.decomposition import PCA\n",
    "from sklearn.manifold import TSNE\n",
    "\n",
    "# Need to load the large model to get the vectors\n",
    "# python -m spacy download en_core_web_lg\n",
    "nlp   = spacy.load('en_core_web_sm')\n",
    "#nlp_lg = spacy.load('en_core_web_lg')"
   ]
  },
  {
   "cell_type": "markdown",
   "metadata": {},
   "source": [
    "# Toy Example"
   ]
  },
  {
   "cell_type": "code",
   "execution_count": 22,
   "metadata": {
    "scrolled": false
   },
   "outputs": [
    {
     "name": "stdout",
     "output_type": "stream",
     "text": [
      "(16, 96)\n"
     ]
    },
    {
     "data": {
      "text/html": [
       "<div>\n",
       "<style scoped>\n",
       "    .dataframe tbody tr th:only-of-type {\n",
       "        vertical-align: middle;\n",
       "    }\n",
       "\n",
       "    .dataframe tbody tr th {\n",
       "        vertical-align: top;\n",
       "    }\n",
       "\n",
       "    .dataframe thead th {\n",
       "        text-align: right;\n",
       "    }\n",
       "</style>\n",
       "<table border=\"1\" class=\"dataframe\">\n",
       "  <thead>\n",
       "    <tr style=\"text-align: right;\">\n",
       "      <th></th>\n",
       "      <th>Token</th>\n",
       "      <th>Has vector?</th>\n",
       "      <th>Vector</th>\n",
       "    </tr>\n",
       "  </thead>\n",
       "  <tbody>\n",
       "    <tr>\n",
       "      <th>0</th>\n",
       "      <td>These</td>\n",
       "      <td>True</td>\n",
       "      <td>[-5.0837116, 2.8361223, 3.4696412, -1.6743262,...</td>\n",
       "    </tr>\n",
       "    <tr>\n",
       "      <th>1</th>\n",
       "      <td>vectors</td>\n",
       "      <td>True</td>\n",
       "      <td>[-1.3429472, -2.240938, -3.213147, -2.2139177,...</td>\n",
       "    </tr>\n",
       "    <tr>\n",
       "      <th>2</th>\n",
       "      <td>can</td>\n",
       "      <td>True</td>\n",
       "      <td>[0.13003206, -0.124765396, -5.763321, -2.27762...</td>\n",
       "    </tr>\n",
       "    <tr>\n",
       "      <th>3</th>\n",
       "      <td>be</td>\n",
       "      <td>True</td>\n",
       "      <td>[-2.5554748, 4.446042, -0.04874468, -2.2856915...</td>\n",
       "    </tr>\n",
       "    <tr>\n",
       "      <th>4</th>\n",
       "      <td>used</td>\n",
       "      <td>True</td>\n",
       "      <td>[4.079047, 1.0927283, -0.76209986, -2.8814154,...</td>\n",
       "    </tr>\n",
       "    <tr>\n",
       "      <th>5</th>\n",
       "      <td>as</td>\n",
       "      <td>True</td>\n",
       "      <td>[3.1916761, 2.1806138, 5.0337315, 0.60693055, ...</td>\n",
       "    </tr>\n",
       "    <tr>\n",
       "      <th>6</th>\n",
       "      <td>features</td>\n",
       "      <td>True</td>\n",
       "      <td>[-1.1637183, -0.8492511, -1.9874053, 0.2503561...</td>\n",
       "    </tr>\n",
       "    <tr>\n",
       "      <th>7</th>\n",
       "      <td>for</td>\n",
       "      <td>True</td>\n",
       "      <td>[0.92133707, -0.29976475, 5.2616405, -0.381117...</td>\n",
       "    </tr>\n",
       "    <tr>\n",
       "      <th>8</th>\n",
       "      <td>machine</td>\n",
       "      <td>True</td>\n",
       "      <td>[-1.217228, 2.2428694, -0.35657167, 2.7428248,...</td>\n",
       "    </tr>\n",
       "    <tr>\n",
       "      <th>9</th>\n",
       "      <td>learning</td>\n",
       "      <td>True</td>\n",
       "      <td>[4.2102685, -1.5389627, -2.9267843, 2.2330406,...</td>\n",
       "    </tr>\n",
       "    <tr>\n",
       "      <th>10</th>\n",
       "      <td>models</td>\n",
       "      <td>True</td>\n",
       "      <td>[1.1083796, 0.2575071, -2.1047792, 1.7764406, ...</td>\n",
       "    </tr>\n",
       "    <tr>\n",
       "      <th>11</th>\n",
       "      <td>.</td>\n",
       "      <td>True</td>\n",
       "      <td>[-1.8922297, 0.10376406, -2.6942015, -1.113549...</td>\n",
       "    </tr>\n",
       "    <tr>\n",
       "      <th>12</th>\n",
       "      <td>January</td>\n",
       "      <td>True</td>\n",
       "      <td>[-1.9741617, -2.5218587, -1.5795851, 1.5570469...</td>\n",
       "    </tr>\n",
       "    <tr>\n",
       "      <th>13</th>\n",
       "      <td>February</td>\n",
       "      <td>True</td>\n",
       "      <td>[1.9770939, -1.9603626, -2.6785517, 2.4473314,...</td>\n",
       "    </tr>\n",
       "    <tr>\n",
       "      <th>14</th>\n",
       "      <td>dog</td>\n",
       "      <td>True</td>\n",
       "      <td>[-0.22021368, 1.9151164, -3.3270593, 2.9729428...</td>\n",
       "    </tr>\n",
       "    <tr>\n",
       "      <th>15</th>\n",
       "      <td>cat</td>\n",
       "      <td>True</td>\n",
       "      <td>[1.8899665, 0.8104883, -0.7978307, 1.7478522, ...</td>\n",
       "    </tr>\n",
       "  </tbody>\n",
       "</table>\n",
       "</div>"
      ],
      "text/plain": [
       "       Token  Has vector?                                             Vector\n",
       "0      These         True  [-5.0837116, 2.8361223, 3.4696412, -1.6743262,...\n",
       "1    vectors         True  [-1.3429472, -2.240938, -3.213147, -2.2139177,...\n",
       "2        can         True  [0.13003206, -0.124765396, -5.763321, -2.27762...\n",
       "3         be         True  [-2.5554748, 4.446042, -0.04874468, -2.2856915...\n",
       "4       used         True  [4.079047, 1.0927283, -0.76209986, -2.8814154,...\n",
       "5         as         True  [3.1916761, 2.1806138, 5.0337315, 0.60693055, ...\n",
       "6   features         True  [-1.1637183, -0.8492511, -1.9874053, 0.2503561...\n",
       "7        for         True  [0.92133707, -0.29976475, 5.2616405, -0.381117...\n",
       "8    machine         True  [-1.217228, 2.2428694, -0.35657167, 2.7428248,...\n",
       "9   learning         True  [4.2102685, -1.5389627, -2.9267843, 2.2330406,...\n",
       "10    models         True  [1.1083796, 0.2575071, -2.1047792, 1.7764406, ...\n",
       "11         .         True  [-1.8922297, 0.10376406, -2.6942015, -1.113549...\n",
       "12   January         True  [-1.9741617, -2.5218587, -1.5795851, 1.5570469...\n",
       "13  February         True  [1.9770939, -1.9603626, -2.6785517, 2.4473314,...\n",
       "14       dog         True  [-0.22021368, 1.9151164, -3.3270593, 2.9729428...\n",
       "15       cat         True  [1.8899665, 0.8104883, -0.7978307, 1.7478522, ..."
      ]
     },
     "execution_count": 22,
     "metadata": {},
     "output_type": "execute_result"
    }
   ],
   "source": [
    "text = \"These vectors can be used as features for machine learning models. January February dog cat\"\n",
    "\n",
    "tokens      = []\n",
    "vectors     = []\n",
    "has_vector  = []\n",
    "for token in nlp(text):\n",
    "    tokens.append(token)\n",
    "    has_vector.append(token.has_vector)\n",
    "    vectors.append(token.vector)\n",
    "\n",
    "result = pd.DataFrame({'Token': tokens, 'Has vector?': has_vector, 'Vector': vectors })\n",
    "\n",
    "vectors = np.array(vectors)\n",
    "print(vectors.shape)\n",
    "result"
   ]
  },
  {
   "cell_type": "markdown",
   "metadata": {},
   "source": [
    "#### Embedding Dimensonality Reduction"
   ]
  },
  {
   "cell_type": "code",
   "execution_count": 25,
   "metadata": {},
   "outputs": [],
   "source": [
    "vectors_pca  = PCA(n_components=2).fit_transform(vectors)\n",
    "vectors_tsne = TSNE(n_components=2).fit_transform(vectors)"
   ]
  },
  {
   "cell_type": "code",
   "execution_count": 26,
   "metadata": {},
   "outputs": [
    {
     "data": {
      "image/png": "[encoded data removed]",
      "text/plain": [
       "<Figure size 576x576 with 1 Axes>"
      ]
     },
     "metadata": {
      "needs_background": "light"
     },
     "output_type": "display_data"
    }
   ],
   "source": [
    "vectors_dimRed = vectors_pca\n",
    "\n",
    "plt.figure(figsize=(8,8))\n",
    "x = vectors_dimRed[:,0]\n",
    "y = vectors_dimRed[:,1]\n",
    "plt.scatter(x, y);\n",
    "\n",
    "for i, txt in enumerate(tokens):\n",
    "    plt.annotate(str(txt), (x[i], y[i]))"
   ]
  },
  {
   "cell_type": "markdown",
   "metadata": {},
   "source": [
    "# Read data"
   ]
  },
  {
   "cell_type": "code",
   "execution_count": 3,
   "metadata": {},
   "outputs": [],
   "source": [
    "# Loading the spam data\n",
    "# ham is the label for non-spam messages\n",
    "df = pd.read_csv(\"data/movieReviews_trainLabel.tsv\", sep=\"\\t\", index_col=\"id\")\n",
    "\n",
    "df = df.sample(1000)"
   ]
  },
  {
   "cell_type": "markdown",
   "metadata": {},
   "source": [
    "# Reviews to embeddings"
   ]
  },
  {
   "cell_type": "code",
   "execution_count": 4,
   "metadata": {},
   "outputs": [
    {
     "data": {
      "application/vnd.jupyter.widget-view+json": {
       "model_id": "49c741399a304048b9dc8ff68bcf25ad",
       "version_major": 2,
       "version_minor": 0
      },
      "text/plain": [
       "HBox(children=(IntProgress(value=0, max=1000), HTML(value='')))"
      ]
     },
     "metadata": {},
     "output_type": "display_data"
    },
    {
     "name": "stdout",
     "output_type": "stream",
     "text": [
      "\n"
     ]
    },
    {
     "data": {
      "text/plain": [
       "(1000, 96)"
      ]
     },
     "execution_count": 4,
     "metadata": {},
     "output_type": "execute_result"
    }
   ],
   "source": [
    "embeddings = []\n",
    "\n",
    "with nlp.disable_pipes():\n",
    "    for text in tqdm(df.review):\n",
    "        embeddings.append(nlp(text).vector)\n",
    "    \n",
    "embeddings = np.array(embeddings)\n",
    "embeddings.shape"
   ]
  },
  {
   "cell_type": "markdown",
   "metadata": {},
   "source": [
    "# Split data"
   ]
  },
  {
   "cell_type": "code",
   "execution_count": 7,
   "metadata": {},
   "outputs": [],
   "source": [
    "x_train, x_test, y_train, y_test = train_test_split(embeddings, df.sentiment, test_size=0.1,\n",
    "                                                    stratify=df.sentiment, random_state=0)"
   ]
  },
  {
   "cell_type": "markdown",
   "metadata": {},
   "source": [
    "# Model: Linear Support Vector Machine"
   ]
  },
  {
   "cell_type": "code",
   "execution_count": 8,
   "metadata": {},
   "outputs": [
    {
     "name": "stdout",
     "output_type": "stream",
     "text": [
      "Accuracy: 67.000%\n"
     ]
    }
   ],
   "source": [
    "# Set dual=False to speed up training, and it's not needed\n",
    "model = LinearSVC(random_state=1, dual=False, max_iter=10000)\n",
    "model.fit(x_train, y_train)\n",
    "print(f\"Accuracy: {model.score(x_test, y_test) * 100:.3f}%\", )"
   ]
  },
  {
   "cell_type": "markdown",
   "metadata": {},
   "source": [
    "# Similarity"
   ]
  },
  {
   "cell_type": "code",
   "execution_count": null,
   "metadata": {},
   "outputs": [],
   "source": [
    "def cosine_similarity(a, b):\n",
    "    return a.dot(b)/np.sqrt(a.dot(a) * b.dot(b))"
   ]
  }
 ],
 "metadata": {
  "kernelspec": {
   "display_name": "Python 3",
   "language": "python",
   "name": "python3"
  },
  "language_info": {
   "codemirror_mode": {
    "name": "ipython",
    "version": 3
   },
   "file_extension": ".py",
   "mimetype": "text/x-python",
   "name": "python",
   "nbconvert_exporter": "python",
   "pygments_lexer": "ipython3",
   "version": "3.7.3"
  }
 },
 "nbformat": 4,
 "nbformat_minor": 2
}
